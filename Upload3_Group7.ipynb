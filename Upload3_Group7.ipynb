{
  "nbformat": 4,
  "nbformat_minor": 0,
  "metadata": {
    "colab": {
      "provenance": [],
      "toc_visible": true
    },
    "kernelspec": {
      "name": "python3",
      "display_name": "Python 3"
    },
    "language_info": {
      "name": "python"
    }
  },
  "cells": [
    {
      "cell_type": "markdown",
      "source": [
        "Clean Code"
      ],
      "metadata": {
        "id": "4ZqE1DtahJZH"
      }
    },
    {
      "cell_type": "code",
      "execution_count": null,
      "metadata": {
        "id": "M9LWhNRchGmR"
      },
      "outputs": [],
      "source": [
        "import knime.scripting.io as knio\n",
        "import pandas as pd\n",
        "\n",
        "# Convert the Arrow input table to a Pandas DataFrame\n",
        "input_table = knio.input_tables[0].to_pandas()\n",
        "\n",
        "# Process the DataFrame\n",
        "# Replace missing station names with 'Unknown'\n",
        "if 'start_station_name' in input_table.columns:\n",
        "    input_table['start_station_name'] = input_table['start_station_name'].fillna('Unknown')\n",
        "if 'end_station_name' in input_table.columns:\n",
        "    input_table['end_station_name'] = input_table['end_station_name'].fillna('Unknown')\n",
        "\n",
        "# Drop rows with missing or invalid coordinates\n",
        "if all(col in input_table.columns for col in ['start_lat', 'start_lng', 'end_lat', 'end_lng']):\n",
        "    input_table = input_table.dropna(subset=['start_lat', 'start_lng', 'end_lat', 'end_lng'])\n",
        "\n",
        "# Convert back to Arrow table and assign to KNIME output\n",
        "knio.output_tables[0] = knio.Table.from_pandas(input_table)\n"
      ]
    },
    {
      "cell_type": "markdown",
      "source": [
        "Remove Outliers"
      ],
      "metadata": {
        "id": "Tei9h00lhMw9"
      }
    },
    {
      "cell_type": "code",
      "source": [
        "import knime.scripting.io as knio\n",
        "import pandas as pd\n",
        "\n",
        "# Convert the Arrow input table to a Pandas DataFrame\n",
        "input_table = knio.input_tables[0].to_pandas()\n",
        "\n",
        "# Filter out trips with unrealistic durations (<1 min or >24 hours)\n",
        "if 'trip_duration_minutes' in input_table.columns:\n",
        "    input_table = input_table[(input_table['trip_duration_minutes'] >= 1) &\n",
        "                              (input_table['trip_duration_minutes'] <= 1440)]\n",
        "\n",
        "# Convert back to Arrow table and assign to KNIME output\n",
        "knio.output_tables[0] = knio.Table.from_pandas(input_table)\n"
      ],
      "metadata": {
        "id": "wrMlmdUYhjxm"
      },
      "execution_count": null,
      "outputs": []
    },
    {
      "cell_type": "markdown",
      "source": [
        "Time of the Day"
      ],
      "metadata": {
        "id": "GqUqKcQ3hlYj"
      }
    },
    {
      "cell_type": "code",
      "source": [
        "import knime.scripting.io as knio\n",
        "import pandas as pd\n",
        "\n",
        "# Convert the Arrow input table to a Pandas DataFrame\n",
        "input_table = knio.input_tables[0].to_pandas()\n",
        "\n",
        "# Add a time of day column\n",
        "def get_time_of_day(timestamp):\n",
        "    hour = timestamp.hour\n",
        "    if 6 <= hour < 12:\n",
        "        return 'Morning'\n",
        "    elif 12 <= hour < 18:\n",
        "        return 'Afternoon'\n",
        "    elif 18 <= hour < 24:\n",
        "        return 'Evening'\n",
        "    else:\n",
        "        return 'Night'\n",
        "\n",
        "if 'started_at' in input_table.columns:\n",
        "    input_table['time_of_day'] = input_table['started_at'].apply(get_time_of_day)\n",
        "#comment\n",
        "# Convert back to Arrow table and assign to KNIME output\n",
        "knio.output_tables[0] = knio.Table.from_pandas(input_table)\n"
      ],
      "metadata": {
        "id": "qHkBG9gWiFxo"
      },
      "execution_count": null,
      "outputs": []
    },
    {
      "cell_type": "markdown",
      "source": [
        "Aggregrate Data and Display Map"
      ],
      "metadata": {
        "id": "qnUkrxSTiOxS"
      }
    },
    {
      "cell_type": "code",
      "source": [
        "import knime.scripting.io as knio\n",
        "import pandas as pd\n",
        "import plotly.express as px\n",
        "import plotly.graph_objects as go\n",
        "\n",
        "# Convert the Arrow input table to a Pandas DataFrame\n",
        "input_table = knio.input_tables[0].to_pandas()\n",
        "\n",
        "# Select the first 10 trips\n",
        "input_table = input_table.head(100)\n",
        "\n",
        "# Create a DataFrame for start and end points\n",
        "start_points = input_table[['ride_id', 'start_lat', 'start_lng', 'start_station_name']]\n",
        "end_points = input_table[['ride_id', 'end_lat', 'end_lng', 'end_station_name']]\n",
        "\n",
        "# Rename columns for merging\n",
        "start_points.columns = ['ride_id', 'lat', 'lng', 'station_name']\n",
        "end_points.columns = ['ride_id', 'lat', 'lng', 'station_name']\n",
        "\n",
        "# Add a column to distinguish start and end points\n",
        "start_points['type'] = 'Start'\n",
        "end_points['type'] = 'End'\n",
        "\n",
        "# Concatenate start and end points\n",
        "all_points = pd.concat([start_points, end_points])\n",
        "\n",
        "# Create a scatter mapbox plot for start and end points\n",
        "fig = px.scatter_mapbox(\n",
        "    all_points,\n",
        "    lat='lat',\n",
        "    lon='lng',\n",
        "    color='type',\n",
        "    hover_name='station_name',\n",
        "    hover_data={'ride_id': True},\n",
        "    zoom=10,\n",
        "    height=600\n",
        ")\n",
        "\n",
        "# Add lines to the map to show the routes\n",
        "for i, row in input_table.iterrows():\n",
        "    fig.add_trace(go.Scattermapbox(\n",
        "        mode=\"lines\",\n",
        "        lon=[row['start_lng'], row['end_lng']],\n",
        "        lat=[row['start_lat'], row['end_lat']],\n",
        "        line=dict(width=2, color='blue'),\n",
        "        name=row['ride_id']\n",
        "    ))\n",
        "\n",
        "# Update layout for better visualization\n",
        "fig.update_layout(mapbox_style=\"open-street-map\")\n",
        "fig.update_layout(margin={\"r\":0,\"t\":0,\"l\":0,\"b\":0})\n",
        "\n",
        "# Show the plot\n",
        "fig.show()\n",
        "\n",
        "# Output the input table as the output table\n",
        "knio.output_tables[0] = knio.Table.from_pandas(input_table)"
      ],
      "metadata": {
        "id": "v6JIBwWWiMu6"
      },
      "execution_count": null,
      "outputs": []
    },
    {
      "cell_type": "markdown",
      "source": [
        "Station Popularity"
      ],
      "metadata": {
        "id": "HsYzO1q8ib8U"
      }
    },
    {
      "cell_type": "code",
      "source": [
        "import knime.scripting.io as knio\n",
        "import pandas as pd\n",
        "import plotly.express as px\n",
        "import plotly.graph_objects as go\n",
        "\n",
        "# Convert the Arrow input table to a Pandas DataFrame\n",
        "input_table = knio.input_tables[0].to_pandas()\n",
        "\n",
        "# Count trips by station\n",
        "start_popularity = input_table['start_station_name'].value_counts().reset_index()\n",
        "start_popularity.columns = ['Station Name', 'Start Trips']\n",
        "\n",
        "end_popularity = input_table['end_station_name'].value_counts().reset_index()\n",
        "end_popularity.columns = ['Station Name', 'End Trips']\n",
        "\n",
        "# Merge and calculate total trips\n",
        "popularity = pd.merge(start_popularity, end_popularity, on='Station Name', how='outer').fillna(0)\n",
        "popularity['Total Trips'] = popularity['Start Trips'] + popularity['End Trips']\n",
        "\n",
        "# Get the most popular stations\n",
        "most_popular_stations = popularity.sort_values(by='Total Trips', ascending=False).head(10)\n",
        "\n",
        "# Merge with original data to get coordinates\n",
        "start_coords = input_table[['start_station_name', 'start_lat', 'start_lng']].drop_duplicates()\n",
        "end_coords = input_table[['end_station_name', 'end_lat', 'end_lng']].drop_duplicates()\n",
        "\n",
        "start_coords.columns = ['Station Name', 'lat', 'lng']\n",
        "end_coords.columns = ['Station Name', 'lat', 'lng']\n",
        "\n",
        "coords = pd.concat([start_coords, end_coords]).drop_duplicates()\n",
        "\n",
        "# Merge coordinates with most popular stations\n",
        "most_popular_stations = pd.merge(most_popular_stations, coords, on='Station Name', how='left')\n",
        "\n",
        "# Convert 'Total Trips' to a list for the size parameter\n",
        "size_list = most_popular_stations['Total Trips'].tolist()\n",
        "\n",
        "# Create a scatter mapbox plot for the most popular stations\n",
        "fig = px.scatter_mapbox(\n",
        "    most_popular_stations,\n",
        "    lat='lat',\n",
        "    lon='lng',\n",
        "    size=size_list,\n",
        "    hover_name='Station Name',\n",
        "    hover_data={'Start Trips': True, 'End Trips': True, 'Total Trips': True},\n",
        "    zoom=10,\n",
        "    height=600\n",
        ")\n",
        "\n",
        "# Update layout for better visualization\n",
        "fig.update_layout(mapbox_style=\"open-street-map\")\n",
        "fig.update_layout(margin={\"r\":0,\"t\":0,\"l\":0,\"b\":0})\n",
        "\n",
        "# Add station names to the side of the map\n",
        "station_names = most_popular_stations['Station Name'].tolist()\n",
        "annotations = [\n",
        "    dict(\n",
        "        x=1.05,\n",
        "        y=1 - (i / len(station_names)),\n",
        "        xref='paper',\n",
        "        yref='paper',\n",
        "        text=station,\n",
        "        showarrow=False,\n",
        "        font=dict(size=12)\n",
        "    ) for i, station in enumerate(station_names)\n",
        "]\n",
        "\n",
        "fig.update_layout(annotations=annotations)\n",
        "\n",
        "# Save the plot to an HTML file\n",
        "fig.write_html(\"most_popular_stations_map.html\")\n",
        "\n",
        "# Output the popularity table as the output table\n",
        "knio.output_tables[0] = knio.Table.from_pandas(most_popular_stations)"
      ],
      "metadata": {
        "id": "oxK32ZyxifHx"
      },
      "execution_count": null,
      "outputs": []
    },
    {
      "cell_type": "markdown",
      "source": [
        "Attempt at Geo-spacial Heatmap"
      ],
      "metadata": {
        "id": "y7lbrdHrio-m"
      }
    },
    {
      "cell_type": "code",
      "source": [
        "import knime.scripting.io as knio\n",
        "import pandas as pd\n",
        "\n",
        "# Convert the Arrow input table to a Pandas DataFrame\n",
        "input_table = knio.input_tables[0].to_pandas()\n",
        "\n",
        "# Since the 'folium' module is not available, we will not use it.\n",
        "# Instead, we will perform a simple data transformation and output the table.\n",
        "\n",
        "# Example transformation: Calculate the net trips (Start Trips - End Trips)\n",
        "input_table['Net Trips'] = input_table['Start Trips'] - input_table['End Trips']\n",
        "\n",
        "# Output the transformed table\n",
        "knio.output_tables[0] = knio.Table.from_pandas(input_table)"
      ],
      "metadata": {
        "id": "2Ul9I5FIi2bp"
      },
      "execution_count": null,
      "outputs": []
    }
  ]
}